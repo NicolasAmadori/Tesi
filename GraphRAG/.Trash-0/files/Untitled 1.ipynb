{
 "cells": [
  {
   "cell_type": "code",
   "execution_count": null,
   "id": "55433879-6bc1-4234-b788-fd95f3203160",
   "metadata": {},
   "outputs": [],
   "source": [
    "print(\"prova\")"
   ]
  },
  {
   "cell_type": "code",
   "execution_count": null,
   "id": "94c50482-9fb0-47d8-8050-2513bf9ce250",
   "metadata": {},
   "outputs": [],
   "source": []
  }
 ],
 "metadata": {
  "kernelspec": {
   "display_name": "Python 3 (ipykernel)",
   "language": "python",
   "name": "python3"
  },
  "language_info": {
   "name": ""
  }
 },
 "nbformat": 4,
 "nbformat_minor": 5
}
